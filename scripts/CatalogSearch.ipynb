{
 "cells": [
  {
   "cell_type": "code",
   "execution_count": 11,
   "metadata": {
    "collapsed": true
   },
   "outputs": [],
   "source": [
    "# Prerequisites: python 2.7 or later\n",
    "import requests\n",
    "import json\n",
    "# For real interactions with the data catalog, use api.mint-data-catalog.org\n",
    "url = \"https://sandbox.mint-data-catalog.org\"\n",
    "# When you register datasets or resources, we require you to pass a \"provenance_id\". This a unique id associated\n",
    "# with your account so that we can keep track of who is adding things to the data catalog. For sandboxed interactions\n",
    "# with the data catalog api, please use this provenance_id:\n",
    "#provenance_id = \"e8287ea4-e6f2-47aa-8bfc-0c22852735c8\"\n",
    "provenance_id = \"5656c93c-895e-41b7-aa8d-09053e4ae4d1\"\n",
    "# Step 1: Get session token to use the API\n",
    "resp = requests.get(url + '/get_session_token').json()\n",
    "#print(resp)\n",
    "api_key = resp['X-Api-Key']\n",
    "\n",
    "request_headers = {\n",
    "    'Content-Type': \"application/json\",\n",
    "    'X-Api-Key': api_key\n",
    "}"
   ]
  },
  {
   "cell_type": "code",
   "execution_count": 13,
   "metadata": {
    "collapsed": false
   },
   "outputs": [
    {
     "ename": "SyntaxError",
     "evalue": "Missing parentheses in call to 'print' (<ipython-input-13-9bef9320596f>, line 15)",
     "output_type": "error",
     "traceback": [
      "\u001b[0;36m  File \u001b[0;32m\"<ipython-input-13-9bef9320596f>\"\u001b[0;36m, line \u001b[0;32m15\u001b[0m\n\u001b[0;31m    print resource\u001b[0m\n\u001b[0m                 ^\u001b[0m\n\u001b[0;31mSyntaxError\u001b[0m\u001b[0;31m:\u001b[0m Missing parentheses in call to 'print'\n"
     ]
    }
   ],
   "source": [
    "# Now we can search for data\n",
    "# 1) Searching by standard_names\n",
    "\n",
    "search_query_1 = {\n",
    "    \"standard_variable_names__in\": [\"River_Width_Standard_Variable\"]\n",
    "}\n",
    "\n",
    "resp = requests.post(url + '/datasets/find', \n",
    "                                        headers=request_headers,\n",
    "                                        json=search_query_1).json()\n",
    "if resp['result'] == 'success':\n",
    "    found_resources = resp['resources']\n",
    "    print('Found ' + str(len(found_resources)) + ' resources')\n",
    "    for resource in found_resources:\n",
    "        print resource\n",
    "    "
   ]
  },
  {
   "cell_type": "code",
   "execution_count": 15,
   "metadata": {
    "collapsed": false
   },
   "outputs": [
    {
     "name": "stdout",
     "output_type": "stream",
     "text": [
      "Found 1 resources\n",
      "[{'dataset_id': '3094dcb9-1fc8-452a-8ade-cab18545c93f', 'dataset_name': 'River Width Variation', 'resource_id': '19cf5fb8-3d88-44da-8765-26e7dd8e1a28', 'resource_name': 'GEETest3-1.csv', 'resource_data_url': 'http://workflow.isi.edu/scratch//GEETest3-1.csv', 'resource_metadata': {'spatial_coverage': {'type': 'BoundingBox', 'value': {'xmax': 8.9071260225, 'xmin': 8.9030533382, 'ymax': 27.6864686383, 'ymin': 27.6811201734}}, 'temporal_coverage': {'end_time': '2016-12-31T23:59:59', 'start_time': '2016-01-01T00:00:00'}}}]\n"
     ]
    }
   ],
   "source": [
    "# 2) Searching by spatial_coverage\n",
    "\n",
    "# Bounding box search parameter is a 4-element numeric array (in WGS84 coordinate system) [xmin, ymin, xmax, ymax]\n",
    "# As a reminder, x is longitude, y is latitude\n",
    "#27.683673  8.903050\n",
    "bounding_box = [\n",
    "    file_1_spatial_coverage[\"value\"][\"xmin\"]-1, \n",
    "    file_1_spatial_coverage[\"value\"][\"ymin\"]-1,\n",
    "    file_1_spatial_coverage[\"value\"][\"xmax\"]+1,\n",
    "    file_1_spatial_coverage[\"value\"][\"ymax\"]+1\n",
    "]\n",
    "\n",
    "search_query_2 = {\n",
    "    \"spatial_coverage__within\": bounding_box\n",
    "}\n",
    "\n",
    "resp = requests.post(f\"{url}/datasets/find\", \n",
    "                                        headers=request_headers,\n",
    "                                        json=search_query_2).json()\n",
    "if resp['result'] == 'success':\n",
    "    found_resources = resp['resources']\n",
    "    print(f\"Found {len(found_resources)} resources\")\n",
    "    print(found_resources)"
   ]
  },
  {
   "cell_type": "code",
   "execution_count": null,
   "metadata": {
    "collapsed": true
   },
   "outputs": [],
   "source": [
    "# 3) Searching by temporal_coverage and standard_names\n",
    "\n",
    "# Bounding box search parameter is a 4-element numeric array (in WGS84 coordinate system) [xmin, ymin, xmax, ymax]\n",
    "# As a reminder, x is longitude, y is latitude\n",
    "start_time = \"2018-01-01T00:00:00\"\n",
    "end_time = \"2018-01-01T23:59:59\"\n",
    "\n",
    "search_query_3 = {\n",
    "    \"standard_variable_names__in\": [temperature_standard_variable[\"name\"]],\n",
    "    \"start_time__gte\": start_time,\n",
    "    \"end_time__lte\": end_time\n",
    "}\n",
    "\n",
    "resp = requests.post(f\"{url}/datasets/find\", \n",
    "                                        headers=request_headers,\n",
    "                                        json=search_query_3).json()\n",
    "\n",
    "if resp['result'] == 'success':\n",
    "    found_resources = resp['resources']\n",
    "    print(f\"Found {len(found_resources)} resources\")\n",
    "    print(found_resources)\n",
    "    \n",
    "    "
   ]
  },
  {
   "cell_type": "code",
   "execution_count": null,
   "metadata": {
    "collapsed": true
   },
   "outputs": [],
   "source": []
  }
 ],
 "metadata": {
  "kernelspec": {
   "display_name": "Python 3",
   "language": "python",
   "name": "python3"
  },
  "language_info": {
   "codemirror_mode": {
    "name": "ipython",
    "version": 3
   },
   "file_extension": ".py",
   "mimetype": "text/x-python",
   "name": "python",
   "nbconvert_exporter": "python",
   "pygments_lexer": "ipython3",
   "version": "3.4.5"
  }
 },
 "nbformat": 4,
 "nbformat_minor": 2
}
